{
 "cells": [
  {
   "cell_type": "code",
   "execution_count": 25,
   "id": "49f32888-1d3b-4897-a367-f09f1b4ffdc4",
   "metadata": {},
   "outputs": [],
   "source": [
    "import numpy as np #NumPy kütüphanesini np olarak ekler"
   ]
  },
  {
   "cell_type": "code",
   "execution_count": 27,
   "id": "857389c1-a24d-4ee8-951b-f57ce6e69f0b",
   "metadata": {
    "scrolled": true
   },
   "outputs": [
    {
     "data": {
      "text/plain": [
       "array([1.  , 2.  , 3.  , 3.14])"
      ]
     },
     "execution_count": 27,
     "metadata": {},
     "output_type": "execute_result"
    }
   ],
   "source": [
    "dizi=np.array([1,2,3,3.14]) #dizi içine eklenen bir ondalık sayı, tam sayı olan diğer elemanları da ondalık sayı hâline \n",
    "dönüştürür\n",
    "dizi"
   ]
  },
  {
   "cell_type": "code",
   "execution_count": 26,
   "id": "dc38c650-4d7b-4bf0-a856-a9a3901bbdd4",
   "metadata": {
    "scrolled": true
   },
   "outputs": [
    {
     "data": {
      "text/plain": [
       "array([1, 2, 3, 3])"
      ]
     },
     "execution_count": 26,
     "metadata": {},
     "output_type": "execute_result"
    }
   ],
   "source": [
    "dizi=np.array([1,2,3,3.14],dtype=int) #NumPy dizilerini tanımlama sırasında dizideki tüm elemanları tek tipe dönüştürme işlemi gerçekleşir\n",
    "dizi"
   ]
  },
  {
   "cell_type": "code",
   "execution_count": 28,
   "id": "90633e02-3d57-4496-aadc-3bf08a22bbff",
   "metadata": {
    "scrolled": true
   },
   "outputs": [
    {
     "data": {
      "text/plain": [
       "array([1, 2, 3])"
      ]
     },
     "execution_count": 28,
     "metadata": {},
     "output_type": "execute_result"
    }
   ],
   "source": [
    "birboyut=np.array([1,2,3]) #NumPy kütüphanesini import ettikten sonra aşağıdaki kodları yazarak bir boyutlu dizi oluşturur\n",
    "\n",
    "birboyut"
   ]
  },
  {
   "cell_type": "code",
   "execution_count": 29,
   "id": "14971ffc-2ee1-4849-b51e-61af6086748d",
   "metadata": {
    "scrolled": true
   },
   "outputs": [
    {
     "data": {
      "text/plain": [
       "array([[1, 2, 3],\n",
       "       [4, 5, 6]])"
      ]
     },
     "execution_count": 29,
     "metadata": {},
     "output_type": "execute_result"
    }
   ],
   "source": [
    "ikiboyut = np.array([[1,2,3], [4,5,6]]) #İki boyutlu dizi oluşturur\n",
    "ikiboyut"
   ]
  },
  {
   "cell_type": "code",
   "execution_count": 30,
   "id": "c2d1656f-f2db-4188-91c5-26b82455e4e4",
   "metadata": {
    "scrolled": true
   },
   "outputs": [
    {
     "data": {
      "text/plain": [
       "array([[[1, 2, 3],\n",
       "        [4, 5, 6]],\n",
       "\n",
       "       [[1, 2, 3],\n",
       "        [4, 5, 6]]])"
      ]
     },
     "execution_count": 30,
     "metadata": {},
     "output_type": "execute_result"
    }
   ],
   "source": [
    "ucboyut= np.array([[[1,2,3], [4,5,6]], [[1,2,3], [4,5,6]]]) #Üç boyutlu dizi oluşturur\n",
    "ucboyut"
   ]
  },
  {
   "cell_type": "code",
   "execution_count": null,
   "id": "98830d31-6fae-481f-b512-5e86f35ec3dc",
   "metadata": {},
   "outputs": [],
   "source": []
  }
 ],
 "metadata": {
  "kernelspec": {
   "display_name": "Python 3 (ipykernel)",
   "language": "python",
   "name": "python3"
  },
  "language_info": {
   "codemirror_mode": {
    "name": "ipython",
    "version": 3
   },
   "file_extension": ".py",
   "mimetype": "text/x-python",
   "name": "python",
   "nbconvert_exporter": "python",
   "pygments_lexer": "ipython3",
   "version": "3.11.7"
  }
 },
 "nbformat": 4,
 "nbformat_minor": 5
}
