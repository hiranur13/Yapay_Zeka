{
 "cells": [
  {
   "cell_type": "code",
   "execution_count": 4,
   "id": "cd24a18d-1785-47ad-ae77-f7af31d24e66",
   "metadata": {},
   "outputs": [],
   "source": [
    "import numpy as np #numpy kütphanesi np olarak ekler.\n",
    "dizi=np.array([1,2,3,4,5]) #numpy atama dizisi işlemi için kullanılır."
   ]
  },
  {
   "cell_type": "code",
   "execution_count": 5,
   "id": "6a1dbebb-9b30-41a5-9fc3-056494c627d9",
   "metadata": {},
   "outputs": [
    {
     "data": {
      "text/plain": [
       "array([1, 2, 3, 4, 5])"
      ]
     },
     "execution_count": 5,
     "metadata": {},
     "output_type": "execute_result"
    }
   ],
   "source": [
    "dizi"
   ]
  },
  {
   "cell_type": "code",
   "execution_count": 9,
   "id": "3b7ea446-1904-40d2-a55b-5bfe7480c6b1",
   "metadata": {},
   "outputs": [
    {
     "data": {
      "text/plain": [
       "array([1. , 2. , 3.5, 4.6])"
      ]
     },
     "execution_count": 9,
     "metadata": {},
     "output_type": "execute_result"
    }
   ],
   "source": [
    "dizi=np.array([1,2,3.5,4.6]) #dizi içine eklenen bir ondalık sayı, tam sayı olan diğer elemanları da ondalık sayı hâline dönüştürür.\n",
    "dizi"
   ]
  },
  {
   "cell_type": "code",
   "execution_count": 15,
   "id": "fd29bc19-557f-45ff-9a1f-97d4c9976ff0",
   "metadata": {},
   "outputs": [
    {
     "data": {
      "text/plain": [
       "array([1, 2, 3, 4])"
      ]
     },
     "execution_count": 15,
     "metadata": {},
     "output_type": "execute_result"
    }
   ],
   "source": [
    "dizi=np.array([1,2,3,4.5],dtype=int) #dizilerini tanımlama sırasında dizideki tüm elemanları tek tipe dönüştürür.\n",
    "dizi"
   ]
  },
  {
   "cell_type": "code",
   "execution_count": 17,
   "id": "65e0edd3-22e5-42a9-ab4d-d086ea8bd163",
   "metadata": {},
   "outputs": [
    {
     "data": {
      "text/plain": [
       "array([1, 2, 3, 4, 5])"
      ]
     },
     "execution_count": 17,
     "metadata": {},
     "output_type": "execute_result"
    }
   ],
   "source": [
    "birboyut=np.array([1,2,3,4,5]) #Bir boyutlu dizi oluşturmak için kullanılır.\n",
    "birboyut"
   ]
  },
  {
   "cell_type": "code",
   "execution_count": 18,
   "id": "cc141c93-d32b-4319-9c71-bb04ebb68b3b",
   "metadata": {},
   "outputs": [
    {
     "data": {
      "text/plain": [
       "array([[1, 2, 3],\n",
       "       [4, 5, 6]])"
      ]
     },
     "execution_count": 18,
     "metadata": {},
     "output_type": "execute_result"
    }
   ],
   "source": [
    "ikiboyut=np.array([[1,2,3],[4,5,6]]) #İki boyutlu dizi oluşturmak için kulllanılır.\n",
    "ikiboyut"
   ]
  },
  {
   "cell_type": "code",
   "execution_count": 19,
   "id": "90c438ae-a8d4-4501-a7bf-293eb31dab4b",
   "metadata": {},
   "outputs": [
    {
     "data": {
      "text/plain": [
       "array([[[1, 2, 3],\n",
       "        [4, 5, 6],\n",
       "        [1, 2, 3],\n",
       "        [4, 5, 6]]])"
      ]
     },
     "execution_count": 19,
     "metadata": {},
     "output_type": "execute_result"
    }
   ],
   "source": [
    "ucboyut=np.array([[[1,2,3],[4,5,6],[1,2,3],[4,5,6]]]) #Üç boyutlu dizi oluşturmak için kullanılır.\n",
    "ucboyut"
   ]
  },
  {
   "cell_type": "code",
   "execution_count": 20,
   "id": "e4425642-922a-4dca-8e98-ad83348fa3f8",
   "metadata": {},
   "outputs": [
    {
     "data": {
      "text/plain": [
       "array([0., 0., 0., 0., 0.])"
      ]
     },
     "execution_count": 20,
     "metadata": {},
     "output_type": "execute_result"
    }
   ],
   "source": [
    "np.zeros(5) #zeros fonksiyonunu kullanarak sıfırlardan oluşan NumPy dizisi için kullanılır. "
   ]
  },
  {
   "cell_type": "code",
   "execution_count": null,
   "id": "42a48043-a95b-47f4-b763-20200479738b",
   "metadata": {},
   "outputs": [],
   "source": []
  }
 ],
 "metadata": {
  "kernelspec": {
   "display_name": "Python 3 (ipykernel)",
   "language": "python",
   "name": "python3"
  },
  "language_info": {
   "codemirror_mode": {
    "name": "ipython",
    "version": 3
   },
   "file_extension": ".py",
   "mimetype": "text/x-python",
   "name": "python",
   "nbconvert_exporter": "python",
   "pygments_lexer": "ipython3",
   "version": "3.11.7"
  }
 },
 "nbformat": 4,
 "nbformat_minor": 5
}
