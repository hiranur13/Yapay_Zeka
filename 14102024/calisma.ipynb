{
 "cells": [
  {
   "cell_type": "markdown",
   "id": "bb60d17e-4abf-4873-835b-59cd5a53076b",
   "metadata": {},
   "source": [
    "**numpy dizi işlemleri**"
   ]
  },
  {
   "cell_type": "code",
   "execution_count": 1,
   "id": "bd1dfe48-1500-473b-bfb3-f689bd403bb7",
   "metadata": {},
   "outputs": [],
   "source": [
    "import numpy as np #numpy kütüphanesini np takma adı ile projeye dahil ediyoruz"
   ]
  },
  {
   "cell_type": "code",
   "execution_count": 2,
   "id": "7f3c6f32-67e2-44f0-acc1-9ac8eee06c56",
   "metadata": {},
   "outputs": [
    {
     "data": {
      "text/plain": [
       "array([[5, 5, 5],\n",
       "       [5, 5, 5],\n",
       "       [5, 5, 5],\n",
       "       [5, 5, 5]])"
      ]
     },
     "execution_count": 2,
     "metadata": {},
     "output_type": "execute_result"
    }
   ],
   "source": [
    "dizi=np.full((4,3),5) #4satur 3 sütün oluşturup içerisine 5 ekler\n",
    "dizi"
   ]
  },
  {
   "cell_type": "code",
   "execution_count": 3,
   "id": "7a0f4f73-0c1a-44f7-9500-0398482bc9e8",
   "metadata": {},
   "outputs": [
    {
     "data": {
      "text/plain": [
       "array([1, 2, 3])"
      ]
     },
     "execution_count": 3,
     "metadata": {},
     "output_type": "execute_result"
    }
   ],
   "source": [
    "#yeni bir numpy dizisi oluşturuyoruz\n",
    "np.array([1,2,3])"
   ]
  },
  {
   "cell_type": "code",
   "execution_count": 5,
   "id": "fed65744-757d-4ddd-bc7a-bde1ea139e27",
   "metadata": {},
   "outputs": [],
   "source": [
    "#oluşturduğumuz diziyi bir değişkene aktarıyoruz\n",
    "dizi=np.array([\"elma\",\"erik\",\"iğde\"])"
   ]
  },
  {
   "cell_type": "code",
   "execution_count": 6,
   "id": "f8ae534e-9d9d-46c0-8e93-3816eaf0b7b3",
   "metadata": {},
   "outputs": [
    {
     "data": {
      "text/plain": [
       "array(['elma', 'erik', 'iğde'], dtype='<U4')"
      ]
     },
     "execution_count": 6,
     "metadata": {},
     "output_type": "execute_result"
    }
   ],
   "source": [
    "dizi"
   ]
  },
  {
   "cell_type": "code",
   "execution_count": null,
   "id": "131296ea-91ba-423c-8698-a33b6677fefb",
   "metadata": {},
   "outputs": [],
   "source": [
    "dizi=np.array([1,2,3])"
   ]
  },
  {
   "cell_type": "code",
   "execution_count": null,
   "id": "b2a06d8e-2690-413b-bf6d-28ae929dfd1b",
   "metadata": {},
   "outputs": [],
   "source": [
    "dizi=np.array([1,2,3.14])"
   ]
  },
  {
   "cell_type": "code",
   "execution_count": 48,
   "id": "06432057-cbc3-4d35-853b-a3fa18c5fad8",
   "metadata": {},
   "outputs": [
    {
     "data": {
      "text/plain": [
       "dtype('int32')"
      ]
     },
     "execution_count": 48,
     "metadata": {},
     "output_type": "execute_result"
    }
   ],
   "source": [
    "dizi.dtype  #dizinin değişken türünü verir. numpy dizileinde elemanların hepsi aynı türdendir"
   ]
  },
  {
   "cell_type": "code",
   "execution_count": 10,
   "id": "4955ad26-8778-454d-b3ab-a6b6a6d63c8a",
   "metadata": {},
   "outputs": [],
   "source": [
    "dizi=np.array([1,2,3,],dtype=int)"
   ]
  },
  {
   "cell_type": "markdown",
   "id": "990539f9-3732-4940-a0ca-dc8f0d32cc63",
   "metadata": {},
   "source": [
    "**numpy ile farklı boyutlarda dizi oluşturma**"
   ]
  },
  {
   "cell_type": "code",
   "execution_count": 11,
   "id": "2ff08de1-8be8-4f91-8e9f-dfbfd2bd5fb1",
   "metadata": {},
   "outputs": [],
   "source": [
    "#bir boyutlu dizi oluşturma\n",
    "bir_boyut=np.array([1,2,3,4])\n",
    "#iki boyutlu dizi oluşturma\n",
    "iki_boyut=np.array([[1,2,3,4],[5,6,7,8],[9,10,11,12]])"
   ]
  },
  {
   "cell_type": "code",
   "execution_count": 12,
   "id": "2c2aebfe-a08d-48a5-88f9-280dad19bc96",
   "metadata": {},
   "outputs": [
    {
     "data": {
      "text/plain": [
       "array([1, 2, 3, 4])"
      ]
     },
     "execution_count": 12,
     "metadata": {},
     "output_type": "execute_result"
    }
   ],
   "source": [
    "bir_boyut"
   ]
  },
  {
   "cell_type": "code",
   "execution_count": 13,
   "id": "8e5a1bc2-aa7a-4558-ba5e-aac3a7b65e63",
   "metadata": {},
   "outputs": [
    {
     "data": {
      "text/plain": [
       "array([[ 1,  2,  3,  4],\n",
       "       [ 5,  6,  7,  8],\n",
       "       [ 9, 10, 11, 12]])"
      ]
     },
     "execution_count": 13,
     "metadata": {},
     "output_type": "execute_result"
    }
   ],
   "source": [
    "iki_boyut"
   ]
  },
  {
   "cell_type": "markdown",
   "id": "33404c13-5d96-476f-b227-4db299c28fc7",
   "metadata": {},
   "source": [
    "**numpy yer tutucular**"
   ]
  },
  {
   "cell_type": "code",
   "execution_count": 14,
   "id": "66db45e7-b01f-4571-b0e0-2e7bc92dff94",
   "metadata": {},
   "outputs": [
    {
     "data": {
      "text/plain": [
       "array([0., 0., 0., 0., 0., 0., 0.])"
      ]
     },
     "execution_count": 14,
     "metadata": {},
     "output_type": "execute_result"
    }
   ],
   "source": [
    "np.zeros(7) #7 sınıfından oluşan tek boyutlu dizi oluşturur"
   ]
  },
  {
   "cell_type": "code",
   "execution_count": 15,
   "id": "bc4f34e9-4e46-46ff-a3cb-2c5fe4827a96",
   "metadata": {},
   "outputs": [
    {
     "data": {
      "text/plain": [
       "array([[0, 0, 0],\n",
       "       [0, 0, 0]])"
      ]
     },
     "execution_count": 15,
     "metadata": {},
     "output_type": "execute_result"
    }
   ],
   "source": [
    "np.zeros((2,3),dtype=int) #* sınıfından oluşan 2 boyutlu int dizi oluşturur"
   ]
  },
  {
   "cell_type": "code",
   "execution_count": 16,
   "id": "c2af010e-1e45-44b9-95d7-820074bd06e8",
   "metadata": {},
   "outputs": [
    {
     "data": {
      "text/plain": [
       "array([1., 1., 1.])"
      ]
     },
     "execution_count": 16,
     "metadata": {},
     "output_type": "execute_result"
    }
   ],
   "source": [
    "np.ones(3)#3 tane 1 içeren bir NumPy dizisi oluşturur."
   ]
  },
  {
   "cell_type": "code",
   "execution_count": 17,
   "id": "8b07ad23-ea4b-43ca-8551-69b721abbec5",
   "metadata": {},
   "outputs": [
    {
     "data": {
      "text/plain": [
       "array([[5, 5, 5],\n",
       "       [5, 5, 5],\n",
       "       [5, 5, 5],\n",
       "       [5, 5, 5]])"
      ]
     },
     "execution_count": 17,
     "metadata": {},
     "output_type": "execute_result"
    }
   ],
   "source": [
    "np.full((4,3),5)#5 sayısından oluşan 2*3 lük dizi"
   ]
  },
  {
   "cell_type": "code",
   "execution_count": 20,
   "id": "0f91bb5e-01c4-4835-976c-7451133e92c7",
   "metadata": {},
   "outputs": [
    {
     "data": {
      "text/plain": [
       "array([ 2,  7, 12, 17])"
      ]
     },
     "execution_count": 20,
     "metadata": {},
     "output_type": "execute_result"
    }
   ],
   "source": [
    "np.arange(2,22,5) #başlangıç,bitiş ve artış değerine göre dizi oluşturma"
   ]
  },
  {
   "cell_type": "code",
   "execution_count": 21,
   "id": "14c71de0-0382-486c-b1a1-35aaf4c6f3f2",
   "metadata": {},
   "outputs": [
    {
     "data": {
      "text/plain": [
       "array([ 2.        ,  3.33333333,  4.66666667,  6.        ,  7.33333333,\n",
       "        8.66666667, 10.        ])"
      ]
     },
     "execution_count": 21,
     "metadata": {},
     "output_type": "execute_result"
    }
   ],
   "source": [
    "np.linspace(2,10,num=7) #başlangıç ve bitiş değeri aralığında belirtilen miktarda  eşit aralık"
   ]
  },
  {
   "cell_type": "code",
   "execution_count": 26,
   "id": "e8b90158-b25b-45ae-b87e-038e1a937c70",
   "metadata": {},
   "outputs": [
    {
     "data": {
      "text/plain": [
       "array([4, 2, 0, 5, 7])"
      ]
     },
     "execution_count": 26,
     "metadata": {},
     "output_type": "execute_result"
    }
   ],
   "source": [
    "np.random.randint(0,10,5) #0-10 aralığında rastgele 5 sayıdan oluşan bir boyutlu dizi"
   ]
  },
  {
   "cell_type": "code",
   "execution_count": 27,
   "id": "80532b18-4548-4a27-aa4f-e2dd6045cb06",
   "metadata": {},
   "outputs": [
    {
     "data": {
      "text/plain": [
       "array([[2, 0],\n",
       "       [7, 3],\n",
       "       [9, 0],\n",
       "       [9, 3],\n",
       "       [6, 1]])"
      ]
     },
     "execution_count": 27,
     "metadata": {},
     "output_type": "execute_result"
    }
   ],
   "source": [
    "np.random.randint(0,10,(5,2)) #0-10 aralığında 5*2 rastgele sayıdan oluşan 2 boyutlu dizi"
   ]
  },
  {
   "cell_type": "markdown",
   "id": "40ac6744-face-4d3e-ae98-9936bab26625",
   "metadata": {},
   "source": [
    "**diziler ile ilgili işlemler**"
   ]
  },
  {
   "cell_type": "code",
   "execution_count": 29,
   "id": "b83d1922-8b90-477a-b687-ffdcf5a18382",
   "metadata": {},
   "outputs": [
    {
     "data": {
      "text/plain": [
       "(3, 4)"
      ]
     },
     "execution_count": 29,
     "metadata": {},
     "output_type": "execute_result"
    }
   ],
   "source": [
    "#dizilerin eleman sayısını öğrenmek için shape komutu kullanılşır\n",
    "dizi=np.array([[1,2,3,4],[5,6,7,8],[9,10,11,12]])\n",
    "dizi.shape"
   ]
  },
  {
   "cell_type": "code",
   "execution_count": 30,
   "id": "758a0f91-a05f-4ccd-b804-9c62d1a50aa3",
   "metadata": {},
   "outputs": [
    {
     "data": {
      "text/plain": [
       "2"
      ]
     },
     "execution_count": 30,
     "metadata": {},
     "output_type": "execute_result"
    }
   ],
   "source": [
    "#ndim dizi boyutunun öğrenmek için kullanılır\n",
    "dizi.ndim"
   ]
  },
  {
   "cell_type": "code",
   "execution_count": 31,
   "id": "fd48183e-cf7b-426d-a9fd-2c7f95e7ca07",
   "metadata": {},
   "outputs": [
    {
     "data": {
      "text/plain": [
       "12"
      ]
     },
     "execution_count": 31,
     "metadata": {},
     "output_type": "execute_result"
    }
   ],
   "source": [
    "#size dizideki toplam eleman sayısını göterir\n",
    "dizi.size"
   ]
  },
  {
   "cell_type": "code",
   "execution_count": 33,
   "id": "fe30c59a-3b3b-4cd1-bf3c-520e7d9b0e86",
   "metadata": {},
   "outputs": [
    {
     "data": {
      "text/plain": [
       "4"
      ]
     },
     "execution_count": 33,
     "metadata": {},
     "output_type": "execute_result"
    }
   ],
   "source": [
    "dizi.itemsize #dizideki her bir elemanın bayt cinsinden değerini verir"
   ]
  },
  {
   "cell_type": "markdown",
   "id": "ad86da76-8a58-46b3-99de-02648c90fec8",
   "metadata": {},
   "source": [
    "**SORU**"
   ]
  },
  {
   "cell_type": "markdown",
   "id": "b7805b8a-ea52-4f5c-a10e-738c4204a6d9",
   "metadata": {},
   "source": [
    "5 satır 7 sütün alacak şekilde rastgele sayıdan oluşan int türünde bir dizi oluştur"
   ]
  },
  {
   "cell_type": "code",
   "execution_count": 52,
   "id": "90817635-afc4-4953-af28-d6d9f4539ebf",
   "metadata": {},
   "outputs": [
    {
     "data": {
      "text/plain": [
       "array([[2, 3, 5, 3, 4, 4, 6],\n",
       "       [9, 7, 8, 5, 9, 9, 2],\n",
       "       [4, 6, 0, 2, 6, 9, 2],\n",
       "       [3, 7, 3, 6, 7, 0, 2],\n",
       "       [7, 3, 0, 9, 7, 5, 4]])"
      ]
     },
     "execution_count": 52,
     "metadata": {},
     "output_type": "execute_result"
    }
   ],
   "source": [
    "np.random.randint(0,10,(5,7))"
   ]
  }
 ],
 "metadata": {
  "kernelspec": {
   "display_name": "Python 3 (ipykernel)",
   "language": "python",
   "name": "python3"
  },
  "language_info": {
   "codemirror_mode": {
    "name": "ipython",
    "version": 3
   },
   "file_extension": ".py",
   "mimetype": "text/x-python",
   "name": "python",
   "nbconvert_exporter": "python",
   "pygments_lexer": "ipython3",
   "version": "3.11.7"
  }
 },
 "nbformat": 4,
 "nbformat_minor": 5
}
