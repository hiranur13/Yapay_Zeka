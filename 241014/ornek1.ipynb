{
 "cells": [
  {
   "cell_type": "markdown",
   "id": "112a5e8f-37f4-4797-90ad-a15c6da31736",
   "metadata": {},
   "source": [
    "**Numpy Dizi İşlemleri**"
   ]
  },
  {
   "cell_type": "code",
   "execution_count": 38,
   "id": "e8e63f65-9d88-4ef2-9118-a2e05b38ee98",
   "metadata": {},
   "outputs": [],
   "source": [
    "import numpy as np #numpy kütüphanesini no takma adı ile projeye dahil ediyoruz."
   ]
  },
  {
   "cell_type": "code",
   "execution_count": 8,
   "id": "f2d3b5f0-4976-4e18-b875-c4ed5e5157b5",
   "metadata": {},
   "outputs": [
    {
     "data": {
      "text/plain": [
       "array([[5, 5, 5],\n",
       "       [5, 5, 5],\n",
       "       [5, 5, 5],\n",
       "       [5, 5, 5]])"
      ]
     },
     "execution_count": 8,
     "metadata": {},
     "output_type": "execute_result"
    }
   ],
   "source": [
    "dizi=np.full((4,3),5) #5 sayısından oluşan 4*3'lük dizi\n",
    "dizi"
   ]
  },
  {
   "cell_type": "code",
   "execution_count": 10,
   "id": "e626c9a9-28f2-4888-a5a8-19c85835ea97",
   "metadata": {},
   "outputs": [
    {
     "data": {
      "text/plain": [
       "array([1, 2, 3])"
      ]
     },
     "execution_count": 10,
     "metadata": {},
     "output_type": "execute_result"
    }
   ],
   "source": [
    "np.array([1,2,3]) #yeni numpy dizesi oluşturuyoruz."
   ]
  },
  {
   "cell_type": "code",
   "execution_count": 54,
   "id": "e8bdb947-a726-488b-ab38-cb8de9008360",
   "metadata": {},
   "outputs": [
    {
     "data": {
      "text/plain": [
       "array([1, 2, 3])"
      ]
     },
     "execution_count": 54,
     "metadata": {},
     "output_type": "execute_result"
    }
   ],
   "source": [
    "dizi=np.array([1,2,3.14],dtype=int) #dizideki tüm elemanları tek tipe dönüştürür. \n",
    "dizi"
   ]
  },
  {
   "cell_type": "code",
   "execution_count": 56,
   "id": "06414ae4-3d0e-461a-9801-3a67bb9e3292",
   "metadata": {},
   "outputs": [
    {
     "data": {
      "text/plain": [
       "array(['elma', 'erik', 'iğde'], dtype='<U4')"
      ]
     },
     "execution_count": 56,
     "metadata": {},
     "output_type": "execute_result"
    }
   ],
   "source": [
    "dizi=np.array([\"elma\",\"erik\",\"iğde\"]) #Oluşturduğumuz diziyi bir değişkene aktarıyoruz.\n",
    "dizi"
   ]
  },
  {
   "cell_type": "markdown",
   "id": "c945855c-923f-48fa-9051-922dd325b5bd",
   "metadata": {},
   "source": [
    "**Numpy ile farklı boyutlarda dizi oluşturma**"
   ]
  },
  {
   "cell_type": "code",
   "execution_count": 26,
   "id": "b25984de-51a9-47ca-9d4e-457ff83cbd9a",
   "metadata": {},
   "outputs": [
    {
     "data": {
      "text/plain": [
       "array([1, 2, 3])"
      ]
     },
     "execution_count": 26,
     "metadata": {},
     "output_type": "execute_result"
    }
   ],
   "source": [
    "birboyut=np.array([1,2,3]) #bir boyutlu dizi oluşturduk.\n",
    "birboyut"
   ]
  },
  {
   "cell_type": "code",
   "execution_count": 27,
   "id": "9e364ecb-e440-45d4-9dfe-4af7bbcaf594",
   "metadata": {},
   "outputs": [
    {
     "data": {
      "text/plain": [
       "array([[ 1,  2,  3,  4],\n",
       "       [ 5,  6,  7,  8],\n",
       "       [ 9, 10, 11, 12]])"
      ]
     },
     "execution_count": 27,
     "metadata": {},
     "output_type": "execute_result"
    }
   ],
   "source": [
    "ikiboyut=np.array([[1,2,3,4],[5,6,7,8],[9,10,11,12]]) #ikiboyutlu dizi oluşturduk.\n",
    "ikiboyut"
   ]
  },
  {
   "cell_type": "markdown",
   "id": "d0bd0590-bb86-4c2e-8a47-54423e32375f",
   "metadata": {},
   "source": [
    "**Numpy Yer Tutucular**"
   ]
  },
  {
   "cell_type": "code",
   "execution_count": 30,
   "id": "fc02f21c-eb07-43b9-a279-82c7fa1ad57a",
   "metadata": {},
   "outputs": [
    {
     "data": {
      "text/plain": [
       "array([0., 0., 0., 0., 0., 0., 0.])"
      ]
     },
     "execution_count": 30,
     "metadata": {},
     "output_type": "execute_result"
    }
   ],
   "source": [
    "np.zeros(7) #7 sıfırdan oluşan tek boyutlu dizi oluşturur."
   ]
  },
  {
   "cell_type": "code",
   "execution_count": 32,
   "id": "bee603e9-ea9a-4b57-beb9-7992e6feaeb1",
   "metadata": {},
   "outputs": [
    {
     "data": {
      "text/plain": [
       "array([[0, 0, 0],\n",
       "       [0, 0, 0]])"
      ]
     },
     "execution_count": 32,
     "metadata": {},
     "output_type": "execute_result"
    }
   ],
   "source": [
    "np.zeros((2,3),dtype=int) #2 satır 3 sütunluk iki boyutlu bir dizi oluşturur."
   ]
  },
  {
   "cell_type": "code",
   "execution_count": 33,
   "id": "1be596ce-6dfe-4034-a61b-5de126bf9f50",
   "metadata": {},
   "outputs": [
    {
     "data": {
      "text/plain": [
       "array([1., 1., 1.])"
      ]
     },
     "execution_count": 33,
     "metadata": {},
     "output_type": "execute_result"
    }
   ],
   "source": [
    "np.ones(3) #3 birden oluşan tek boyutlu dizi oluşturur."
   ]
  },
  {
   "cell_type": "code",
   "execution_count": 35,
   "id": "2cb2634b-399f-4557-89f8-fd50814904df",
   "metadata": {},
   "outputs": [
    {
     "data": {
      "text/plain": [
       "array([[5, 5, 5],\n",
       "       [5, 5, 5],\n",
       "       [5, 5, 5],\n",
       "       [5, 5, 5]])"
      ]
     },
     "execution_count": 35,
     "metadata": {},
     "output_type": "execute_result"
    }
   ],
   "source": [
    "np.full((4,3),5) #5 sayısından oluşan 2*3'luk dizi."
   ]
  },
  {
   "cell_type": "code",
   "execution_count": 36,
   "id": "611871d4-ae84-4b82-9a6a-dc1d56a2fb26",
   "metadata": {},
   "outputs": [
    {
     "data": {
      "text/plain": [
       "array([ 2,  7, 12, 17])"
      ]
     },
     "execution_count": 36,
     "metadata": {},
     "output_type": "execute_result"
    }
   ],
   "source": [
    "np.arange(2,22,5) #Başlangıç,bitiş ve artış değerine göre dizi oluşturur."
   ]
  },
  {
   "cell_type": "code",
   "execution_count": 40,
   "id": "4fd9948b-a37a-422d-9307-7917d732888c",
   "metadata": {},
   "outputs": [
    {
     "data": {
      "text/plain": [
       "array([ 2.        ,  3.33333333,  4.66666667,  6.        ,  7.33333333,\n",
       "        8.66666667, 10.        ])"
      ]
     },
     "execution_count": 40,
     "metadata": {},
     "output_type": "execute_result"
    }
   ],
   "source": [
    "np.linspace(2,10,num=7) #Başlangıç ve bitiş değeri aralığında belirtilen miktarda eşit aralık"
   ]
  },
  {
   "cell_type": "code",
   "execution_count": 41,
   "id": "51dbaf68-e76a-4d69-a87d-4bdaf981f69f",
   "metadata": {},
   "outputs": [
    {
     "data": {
      "text/plain": [
       "array([4, 0, 5, 7, 6])"
      ]
     },
     "execution_count": 41,
     "metadata": {},
     "output_type": "execute_result"
    }
   ],
   "source": [
    "np.random.randint(0,10,5) #0-10 aralığında rastgele 5 sayıdan oluşan bir boyutlu dizi"
   ]
  },
  {
   "cell_type": "code",
   "execution_count": 42,
   "id": "7849cb87-ed89-42df-adf2-8017d77c3f70",
   "metadata": {},
   "outputs": [
    {
     "data": {
      "text/plain": [
       "array([[0, 0],\n",
       "       [8, 2],\n",
       "       [1, 4],\n",
       "       [6, 2],\n",
       "       [1, 1]])"
      ]
     },
     "execution_count": 42,
     "metadata": {},
     "output_type": "execute_result"
    }
   ],
   "source": [
    "np.random.randint(0,10,(5,2)) #0-10 aralığında 5*2 rastgele sayıdan oluşan 2 boyutlu dizi"
   ]
  },
  {
   "cell_type": "markdown",
   "id": "043fb25c-7f9a-4983-bcf1-093753e7274d",
   "metadata": {},
   "source": [
    "**Diziler ile ilgili işlemler**"
   ]
  },
  {
   "cell_type": "code",
   "execution_count": 43,
   "id": "c2518d47-8843-42b2-b39a-637fb7383f06",
   "metadata": {},
   "outputs": [
    {
     "data": {
      "text/plain": [
       "(3, 4)"
      ]
     },
     "execution_count": 43,
     "metadata": {},
     "output_type": "execute_result"
    }
   ],
   "source": [
    "dizi=np.array([[1,2,3,4],[5,6,7,8],[9,10,11,12]]) #dizilerin eleman sayısını öğrenmek için shape komutu kullanılır. \n",
    "dizi.shape"
   ]
  },
  {
   "cell_type": "code",
   "execution_count": 44,
   "id": "846c05a3-d159-40aa-abfa-1903d11bca12",
   "metadata": {},
   "outputs": [
    {
     "data": {
      "text/plain": [
       "2"
      ]
     },
     "execution_count": 44,
     "metadata": {},
     "output_type": "execute_result"
    }
   ],
   "source": [
    "dizi.ndim # ndim dizi boyutunu öğrenmek için kullanılır."
   ]
  },
  {
   "cell_type": "code",
   "execution_count": 45,
   "id": "43fd9e47-490d-4415-a5d1-9446af132146",
   "metadata": {},
   "outputs": [
    {
     "data": {
      "text/plain": [
       "12"
      ]
     },
     "execution_count": 45,
     "metadata": {},
     "output_type": "execute_result"
    }
   ],
   "source": [
    "dizi.size #size dizesindeki toplam eleman sayısını gösterir. "
   ]
  },
  {
   "cell_type": "code",
   "execution_count": 46,
   "id": "a0636328-555d-4cfd-bf1b-57196a77195f",
   "metadata": {},
   "outputs": [
    {
     "data": {
      "text/plain": [
       "4"
      ]
     },
     "execution_count": 46,
     "metadata": {},
     "output_type": "execute_result"
    }
   ],
   "source": [
    "dizi. #dizideki her bir elemanın bayt cinsinden değerini verir."
   ]
  },
  {
   "cell_type": "markdown",
   "id": "76afe168-3ee9-48d5-baef-fd7ef0df750e",
   "metadata": {},
   "source": [
    "**Örnek**"
   ]
  },
  {
   "cell_type": "code",
   "execution_count": 51,
   "id": "43bc02f1-7901-4190-a3e1-af9b2ce9c2c7",
   "metadata": {},
   "outputs": [
    {
     "data": {
      "text/plain": [
       "array([[9, 7, 9, 2, 0, 6, 1],\n",
       "       [0, 3, 3, 6, 5, 1, 9],\n",
       "       [1, 1, 1, 1, 1, 8, 9],\n",
       "       [6, 1, 6, 2, 6, 4, 2],\n",
       "       [1, 0, 3, 4, 8, 1, 8]])"
      ]
     },
     "execution_count": 51,
     "metadata": {},
     "output_type": "execute_result"
    }
   ],
   "source": [
    "np.random.randint(0,10,(5,7)) #0-10 arasından 5 satır 7 sütunluk rastgele sayılar."
   ]
  },
  {
   "cell_type": "code",
   "execution_count": null,
   "id": "7d0b4439-8f8e-4400-9b07-7ca7549032b6",
   "metadata": {},
   "outputs": [],
   "source": []
  }
 ],
 "metadata": {
  "kernelspec": {
   "display_name": "Python 3 (ipykernel)",
   "language": "python",
   "name": "python3"
  },
  "language_info": {
   "codemirror_mode": {
    "name": "ipython",
    "version": 3
   },
   "file_extension": ".py",
   "mimetype": "text/x-python",
   "name": "python",
   "nbconvert_exporter": "python",
   "pygments_lexer": "ipython3",
   "version": "3.11.7"
  }
 },
 "nbformat": 4,
 "nbformat_minor": 5
}
